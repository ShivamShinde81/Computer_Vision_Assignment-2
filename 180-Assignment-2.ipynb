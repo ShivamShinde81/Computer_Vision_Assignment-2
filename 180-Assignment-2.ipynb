{
 "cells": [
  {
   "cell_type": "markdown",
   "id": "d641b3df",
   "metadata": {},
   "source": [
    "#### Name: Shiavm Rajaram Shinde\n",
    "#### Roll No.: 180\n",
    "#### Div: CV1 "
   ]
  },
  {
   "cell_type": "markdown",
   "id": "02212de0",
   "metadata": {},
   "source": [
    "# **Computer Vision Assignment No. 2**\n",
    "Problem Statement : \n",
    "Image Annotation using mouse.   \n",
    "Add Trackbar as controller."
   ]
  },
  {
   "cell_type": "markdown",
   "id": "13c00656",
   "metadata": {},
   "source": [
    "## 1) Image Annotation using Mouse"
   ]
  },
  {
   "cell_type": "code",
   "execution_count": 3,
   "id": "6239a7c5",
   "metadata": {},
   "outputs": [],
   "source": [
    "# Import packages\n",
    "import cv2\n",
    "\n",
    "# Lists to store the points\n",
    "top_left_corner=[]\n",
    "bottom_right_corner=[]\n",
    "\n",
    "# Define drawRectangle function\n",
    "def drawRectangle(action, x, y, flags, *userdata):\n",
    "  # Referencing global variables \n",
    "  global top_left_corner, bottom_right_corner\n",
    "  # Action to be taken when left mouse button is pressed\n",
    "  if action == cv2.EVENT_LBUTTONDOWN:\n",
    "    top_left_corner = [(x,y)]\n",
    "    # Action to be taken when left mouse button is released\n",
    "  elif action == cv2.EVENT_LBUTTONUP:\n",
    "    bottom_right_corner = [(x,y)]    \n",
    "    # Draw the rectangle\n",
    "    cv2.rectangle(image, top_left_corner[0], bottom_right_corner[0], (0,255,0),2, 8)\n",
    "    cv2.imshow(\"Window\",image)\n",
    "\n",
    "\n",
    "# Read Images\n",
    "image = cv2.imread(\"sample.jpg\")\n",
    "# Make a dummy image, will be useful to clear the drawing\n",
    "dummy = image.copy()\n",
    "# Create a named window\n",
    "cv2.namedWindow(\"Window\")\n",
    "# highgui function called when mouse events occur\n",
    "cv2.setMouseCallback(\"Window\", drawRectangle)\n",
    "\n",
    "k=0\n",
    "# Close the window when key q is pressed\n",
    "while k!=113:\n",
    "  # Display the image\n",
    "  cv2.imshow(\"Window\", image)\n",
    "  k = cv2.waitKey(0)\n",
    "  # Clear the window when c is presses\n",
    "  if (k == 99):\n",
    "    image= dummy.copy()\n",
    "    cv2.imshow(\"Window\", image)\n",
    "\n",
    "cv2.destroyAllWindows()"
   ]
  },
  {
   "cell_type": "markdown",
   "id": "307faac5",
   "metadata": {},
   "source": [
    "## 2) Add Trackbar as controller "
   ]
  },
  {
   "cell_type": "code",
   "execution_count": 4,
   "id": "73ed936d",
   "metadata": {},
   "outputs": [],
   "source": [
    "# Import dependancies\n",
    "import cv2\n",
    "\n",
    "maxScaleUp = 100\n",
    "scaleFactor = 1\n",
    "windowName = \"Resize Image\"\n",
    "trackbarValue = \"Scale\"\n",
    "\n",
    "# load an image\n",
    "image = cv2.imread(\"sample.jpg\")\n",
    "\n",
    "# Create a window to display results\n",
    "cv2.namedWindow(windowName, cv2.WINDOW_AUTOSIZE)\n",
    "\n",
    "# Callback functions\n",
    "def scaleImage(*args):\n",
    "    # Get the scale factor from the trackbar \n",
    "    scaleFactor = 1+ args[0]/100.0\n",
    "    # Resize the image\n",
    "    scaledImage = cv2.resize(image, None, fx=scaleFactor, fy = scaleFactor, interpolation = cv2.INTER_LINEAR)\n",
    "    cv2.imshow(windowName, scaledImage)\n",
    "\n",
    "# Create trackbar\n",
    "cv2.createTrackbar(trackbarValue, windowName, scaleFactor, maxScaleUp, scaleImage)\n",
    "\n",
    "# Display the image\n",
    "cv2.imshow(windowName, image)\n",
    "c = cv2.waitKey(0)\n",
    "cv2.destroyAllWindows()"
   ]
  },
  {
   "cell_type": "markdown",
   "id": "4efc3ee0",
   "metadata": {},
   "source": [
    "#### Note: After execution of respective cell, output is displayed. Output is uploaded in PDF File. "
   ]
  },
  {
   "cell_type": "code",
   "execution_count": null,
   "id": "a2794827",
   "metadata": {},
   "outputs": [],
   "source": []
  }
 ],
 "metadata": {
  "kernelspec": {
   "display_name": "Python 3 (ipykernel)",
   "language": "python",
   "name": "python3"
  },
  "language_info": {
   "codemirror_mode": {
    "name": "ipython",
    "version": 3
   },
   "file_extension": ".py",
   "mimetype": "text/x-python",
   "name": "python",
   "nbconvert_exporter": "python",
   "pygments_lexer": "ipython3",
   "version": "3.9.7"
  }
 },
 "nbformat": 4,
 "nbformat_minor": 5
}
